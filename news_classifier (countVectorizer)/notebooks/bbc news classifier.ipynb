{
 "cells": [
  {
   "cell_type": "markdown",
   "id": "2d1f2b89-2060-4ef6-b480-a8fc5ed4e048",
   "metadata": {},
   "source": [
    "#### import relevant packages"
   ]
  },
  {
   "cell_type": "code",
   "execution_count": 38,
   "id": "66a724a2-2d8e-4072-bfcc-8ecfc6f8325e",
   "metadata": {},
   "outputs": [],
   "source": [
    "import pandas as pd\n",
    "import numpy as np\n",
    "from sklearn.feature_extraction.text import CountVectorizer\n",
    "from sklearn.naive_bayes import MultinomialNB\n",
    "from sklearn.model_selection import train_test_split"
   ]
  },
  {
   "cell_type": "code",
   "execution_count": 39,
   "id": "96b59aa4-56ab-4425-aa34-d16a78a026c1",
   "metadata": {},
   "outputs": [],
   "source": [
    "import nltk\n",
    "from nltk import word_tokenize\n",
    "from nltk.stem import WordNetLemmatizer, PorterStemmer\n",
    "from nltk.corpus import wordnet"
   ]
  },
  {
   "cell_type": "code",
   "execution_count": 40,
   "id": "90bbbeaa-a235-4042-ba0f-fb5746072d3e",
   "metadata": {},
   "outputs": [],
   "source": [
    "# nltk.download(\"wordnet\")\n",
    "# nltk.download(\"punkt\")\n",
    "# nltk.download(\"averaged_perceptron_tagger\")"
   ]
  },
  {
   "cell_type": "markdown",
   "id": "0678733d-5476-45aa-8247-0cc4639f1c88",
   "metadata": {},
   "source": [
    "#### loading in news dataset"
   ]
  },
  {
   "cell_type": "code",
   "execution_count": 41,
   "id": "6f73990b-41c0-4410-b522-25ccefa15441",
   "metadata": {},
   "outputs": [],
   "source": [
    "import os \n",
    "\n",
    "base_dir = \"../data/raw\"\n",
    "\n",
    "texts = []\n",
    "topics = []\n",
    "\n",
    "for folder_name in os.listdir(base_dir):\n",
    "    folder_path = os.path.join(base_dir, folder_name)\n",
    "    \n",
    "    if not os.path.isdir(folder_path):\n",
    "        continue\n",
    "\n",
    "    for file_name in os.listdir(folder_path):             # business, politics, entertainment etc..\n",
    "        file_path = os.path.join(folder_path, file_name)\n",
    "        \n",
    "        if not file_name.endswith(\".txt\"):\n",
    "            continue\n",
    "\n",
    "        with open(file_path, 'r', encoding='utf-8', errors = 'ignore') as file:\n",
    "            texts.append(file.read())  \n",
    "            topics.append(folder_name)  "
   ]
  },
  {
   "cell_type": "code",
   "execution_count": 42,
   "id": "b2149d37-8c0d-4678-836e-01b0117f22d5",
   "metadata": {},
   "outputs": [
    {
     "data": {
      "text/html": [
       "<div>\n",
       "<style scoped>\n",
       "    .dataframe tbody tr th:only-of-type {\n",
       "        vertical-align: middle;\n",
       "    }\n",
       "\n",
       "    .dataframe tbody tr th {\n",
       "        vertical-align: top;\n",
       "    }\n",
       "\n",
       "    .dataframe thead th {\n",
       "        text-align: right;\n",
       "    }\n",
       "</style>\n",
       "<table border=\"1\" class=\"dataframe\">\n",
       "  <thead>\n",
       "    <tr style=\"text-align: right;\">\n",
       "      <th></th>\n",
       "      <th>text</th>\n",
       "      <th>topic</th>\n",
       "    </tr>\n",
       "  </thead>\n",
       "  <tbody>\n",
       "    <tr>\n",
       "      <th>0</th>\n",
       "      <td>Musicians to tackle US red tape\\n\\nMusicians' ...</td>\n",
       "      <td>entertainment</td>\n",
       "    </tr>\n",
       "    <tr>\n",
       "      <th>1</th>\n",
       "      <td>U2's desire to be number one\\n\\nU2, who have w...</td>\n",
       "      <td>entertainment</td>\n",
       "    </tr>\n",
       "    <tr>\n",
       "      <th>2</th>\n",
       "      <td>Rocker Doherty in on-stage fight\\n\\nRock singe...</td>\n",
       "      <td>entertainment</td>\n",
       "    </tr>\n",
       "    <tr>\n",
       "      <th>3</th>\n",
       "      <td>Snicket tops US box office chart\\n\\nThe film a...</td>\n",
       "      <td>entertainment</td>\n",
       "    </tr>\n",
       "    <tr>\n",
       "      <th>4</th>\n",
       "      <td>Ocean's Twelve raids box office\\n\\nOcean's Twe...</td>\n",
       "      <td>entertainment</td>\n",
       "    </tr>\n",
       "  </tbody>\n",
       "</table>\n",
       "</div>"
      ],
      "text/plain": [
       "                                                text          topic\n",
       "0  Musicians to tackle US red tape\\n\\nMusicians' ...  entertainment\n",
       "1  U2's desire to be number one\\n\\nU2, who have w...  entertainment\n",
       "2  Rocker Doherty in on-stage fight\\n\\nRock singe...  entertainment\n",
       "3  Snicket tops US box office chart\\n\\nThe film a...  entertainment\n",
       "4  Ocean's Twelve raids box office\\n\\nOcean's Twe...  entertainment"
      ]
     },
     "execution_count": 42,
     "metadata": {},
     "output_type": "execute_result"
    }
   ],
   "source": [
    "df = pd.DataFrame({'text': texts, 'topic': topics})\n",
    "\n",
    "df.head()"
   ]
  },
  {
   "cell_type": "code",
   "execution_count": 82,
   "id": "ff412daa",
   "metadata": {},
   "outputs": [
    {
     "data": {
      "text/plain": [
       "array(['entertainment', 'business', 'sport', 'politics', 'tech'],\n",
       "      dtype=object)"
      ]
     },
     "execution_count": 82,
     "metadata": {},
     "output_type": "execute_result"
    }
   ],
   "source": [
    "df['topic'].unique()"
   ]
  },
  {
   "cell_type": "code",
   "execution_count": 43,
   "id": "ed99623c-a222-490f-b2ec-e9aea51e26a2",
   "metadata": {},
   "outputs": [],
   "source": [
    "X = df['text']\n",
    "y = df['topic']"
   ]
  },
  {
   "cell_type": "code",
   "execution_count": 44,
   "id": "23c39120-ed40-4673-9f1e-cfe8d3e685e9",
   "metadata": {},
   "outputs": [
    {
     "data": {
      "text/plain": [
       "<Axes: >"
      ]
     },
     "execution_count": 44,
     "metadata": {},
     "output_type": "execute_result"
    },
    {
     "data": {
      "image/png": "[encoded data removed]",
      "text/plain": [
       "<Figure size 600x300 with 1 Axes>"
      ]
     },
     "metadata": {},
     "output_type": "display_data"
    }
   ],
   "source": [
    "y.hist(figsize = (6,3))"
   ]
  },
  {
   "cell_type": "code",
   "execution_count": 45,
   "id": "ad408ee4-1905-41b9-b72a-564279692122",
   "metadata": {},
   "outputs": [],
   "source": [
    "X_train, X_test, y_train, y_test = train_test_split(X, y, test_size = 0.25, random_state = 42)"
   ]
  },
  {
   "cell_type": "code",
   "execution_count": 46,
   "id": "c8afed1a-c2f6-41f8-b95e-f40391e45fbb",
   "metadata": {},
   "outputs": [],
   "source": [
    "vectorizer = CountVectorizer()\n",
    "\n",
    "X_train_text = X_train\n",
    "X_test_text = X_test\n",
    "\n",
    "X_train = vectorizer.fit_transform(X_train)\n",
    "X_test = vectorizer.transform(X_test)"
   ]
  },
  {
   "cell_type": "code",
   "execution_count": 47,
   "id": "37f43cf5-bd6c-444a-af16-365349140148",
   "metadata": {},
   "outputs": [
    {
     "data": {
      "text/plain": [
       "<Compressed Sparse Row sparse matrix of dtype 'int64'\n",
       "\twith 335821 stored elements and shape (1668, 26079)>"
      ]
     },
     "execution_count": 47,
     "metadata": {},
     "output_type": "execute_result"
    }
   ],
   "source": [
    "\"\"\"\n",
    "matrix of size (no. of data_samples) X (vocab_size).\n",
    "N x V\n",
    "\n",
    "it's sparse matrix representation because it is more efficient, \n",
    "especially when most of the values in the matrix are 0s.\n",
    "\"\"\"\n",
    "\n",
    "X_train   "
   ]
  },
  {
   "cell_type": "code",
   "execution_count": 48,
   "id": "bbe46ab6-97d6-4e37-aca6-275becf78d21",
   "metadata": {},
   "outputs": [
    {
     "data": {
      "text/plain": [
       "np.float64(0.007720063452286601)"
      ]
     },
     "execution_count": 48,
     "metadata": {},
     "output_type": "execute_result"
    }
   ],
   "source": [
    "\"\"\"\n",
    "~ 0.8% (<1%) of the matrix contains non-zero values, \n",
    "hence this justify the use of sparse matrix representation.\n",
    "\"\"\"\n",
    "\n",
    "(X_train != 0).sum() / np.prod(X_train.shape)  "
   ]
  },
  {
   "cell_type": "code",
   "execution_count": 74,
   "id": "8555a4a0",
   "metadata": {},
   "outputs": [
    {
     "data": {
      "text/plain": [
       "(557, 26079)"
      ]
     },
     "execution_count": 74,
     "metadata": {},
     "output_type": "execute_result"
    }
   ],
   "source": [
    "X_test.shape"
   ]
  },
  {
   "cell_type": "code",
   "execution_count": 79,
   "id": "2509946a-b274-4207-9909-0fd48fcef7d8",
   "metadata": {},
   "outputs": [
    {
     "name": "stdout",
     "output_type": "stream",
     "text": [
      "train_score 0.9934052757793765\n",
      "test_score 0.9748653500897666 \n",
      "\n",
      "out of 557 test articles, 14 are misclassified\n"
     ]
    }
   ],
   "source": [
    "model = MultinomialNB()\n",
    "model.fit(X_train, y_train)\n",
    "\n",
    "print(\"train_score\", model.score(X_train, y_train))\n",
    "print(\"test_score\", model.score(X_test, y_test), \"\\n\")\n",
    "\n",
    "print(f\"out of {X_test.shape[0]} test articles, {(1-model.score(X_test, y_test)) * X_test.shape[0]:.0f} are misclassified\")"
   ]
  },
  {
   "cell_type": "markdown",
   "id": "9ef2b640",
   "metadata": {},
   "source": [
    "#### Evaluation"
   ]
  },
  {
   "cell_type": "code",
   "execution_count": 71,
   "id": "070a555b",
   "metadata": {},
   "outputs": [
    {
     "data": {
      "text/html": [
       "<div>\n",
       "<style scoped>\n",
       "    .dataframe tbody tr th:only-of-type {\n",
       "        vertical-align: middle;\n",
       "    }\n",
       "\n",
       "    .dataframe tbody tr th {\n",
       "        vertical-align: top;\n",
       "    }\n",
       "\n",
       "    .dataframe thead th {\n",
       "        text-align: right;\n",
       "    }\n",
       "</style>\n",
       "<table border=\"1\" class=\"dataframe\">\n",
       "  <thead>\n",
       "    <tr style=\"text-align: right;\">\n",
       "      <th></th>\n",
       "      <th>index of x_test</th>\n",
       "      <th>text</th>\n",
       "      <th>actual</th>\n",
       "      <th>predicted</th>\n",
       "    </tr>\n",
       "  </thead>\n",
       "  <tbody>\n",
       "    <tr>\n",
       "      <th>0</th>\n",
       "      <td>414</td>\n",
       "      <td>China now top trader with Japan\\n\\nChina overt...</td>\n",
       "      <td>business</td>\n",
       "      <td>business</td>\n",
       "    </tr>\n",
       "    <tr>\n",
       "      <th>1</th>\n",
       "      <td>420</td>\n",
       "      <td>Bush budget seeks deep cutbacks\\n\\nPresident B...</td>\n",
       "      <td>business</td>\n",
       "      <td>business</td>\n",
       "    </tr>\n",
       "    <tr>\n",
       "      <th>2</th>\n",
       "      <td>1644</td>\n",
       "      <td>MPs' murder sentence concern\\n\\nMurder sentenc...</td>\n",
       "      <td>politics</td>\n",
       "      <td>politics</td>\n",
       "    </tr>\n",
       "    <tr>\n",
       "      <th>3</th>\n",
       "      <td>416</td>\n",
       "      <td>GE sees 'excellent' world economy\\n\\nUS behemo...</td>\n",
       "      <td>business</td>\n",
       "      <td>business</td>\n",
       "    </tr>\n",
       "    <tr>\n",
       "      <th>4</th>\n",
       "      <td>1232</td>\n",
       "      <td>Rush future at Chester uncertain\\n\\nIan Rush's...</td>\n",
       "      <td>sport</td>\n",
       "      <td>sport</td>\n",
       "    </tr>\n",
       "    <tr>\n",
       "      <th>...</th>\n",
       "      <td>...</td>\n",
       "      <td>...</td>\n",
       "      <td>...</td>\n",
       "      <td>...</td>\n",
       "    </tr>\n",
       "    <tr>\n",
       "      <th>552</th>\n",
       "      <td>867</td>\n",
       "      <td>Aviation firms eye booming India\\n\\nIndia's de...</td>\n",
       "      <td>business</td>\n",
       "      <td>business</td>\n",
       "    </tr>\n",
       "    <tr>\n",
       "      <th>553</th>\n",
       "      <td>1220</td>\n",
       "      <td>El Guerrouj targets cross country\\n\\nDouble Ol...</td>\n",
       "      <td>sport</td>\n",
       "      <td>sport</td>\n",
       "    </tr>\n",
       "    <tr>\n",
       "      <th>554</th>\n",
       "      <td>1249</td>\n",
       "      <td>Ferguson fears Milan cutting edge\\n\\nMancheste...</td>\n",
       "      <td>sport</td>\n",
       "      <td>sport</td>\n",
       "    </tr>\n",
       "    <tr>\n",
       "      <th>555</th>\n",
       "      <td>1573</td>\n",
       "      <td>Correction agency plans dropped\\n\\nPlans to cr...</td>\n",
       "      <td>politics</td>\n",
       "      <td>politics</td>\n",
       "    </tr>\n",
       "    <tr>\n",
       "      <th>556</th>\n",
       "      <td>819</td>\n",
       "      <td>Millions 'to lose textile jobs'\\n\\nMillions of...</td>\n",
       "      <td>business</td>\n",
       "      <td>business</td>\n",
       "    </tr>\n",
       "  </tbody>\n",
       "</table>\n",
       "<p>557 rows × 4 columns</p>\n",
       "</div>"
      ],
      "text/plain": [
       "     index of x_test                                               text  \\\n",
       "0                414  China now top trader with Japan\\n\\nChina overt...   \n",
       "1                420  Bush budget seeks deep cutbacks\\n\\nPresident B...   \n",
       "2               1644  MPs' murder sentence concern\\n\\nMurder sentenc...   \n",
       "3                416  GE sees 'excellent' world economy\\n\\nUS behemo...   \n",
       "4               1232  Rush future at Chester uncertain\\n\\nIan Rush's...   \n",
       "..               ...                                                ...   \n",
       "552              867  Aviation firms eye booming India\\n\\nIndia's de...   \n",
       "553             1220  El Guerrouj targets cross country\\n\\nDouble Ol...   \n",
       "554             1249  Ferguson fears Milan cutting edge\\n\\nMancheste...   \n",
       "555             1573  Correction agency plans dropped\\n\\nPlans to cr...   \n",
       "556              819  Millions 'to lose textile jobs'\\n\\nMillions of...   \n",
       "\n",
       "       actual predicted  \n",
       "0    business  business  \n",
       "1    business  business  \n",
       "2    politics  politics  \n",
       "3    business  business  \n",
       "4       sport     sport  \n",
       "..        ...       ...  \n",
       "552  business  business  \n",
       "553     sport     sport  \n",
       "554     sport     sport  \n",
       "555  politics  politics  \n",
       "556  business  business  \n",
       "\n",
       "[557 rows x 4 columns]"
      ]
     },
     "execution_count": 71,
     "metadata": {},
     "output_type": "execute_result"
    }
   ],
   "source": [
    "results = pd.concat([X_test_text, y_test], axis = 1).reset_index() #keeping the index for later scruity uses.\n",
    "\n",
    "y_pred = model.predict(X_test)\n",
    "\n",
    "y_pred_series = pd.Series(y_pred)\n",
    "y_pred_series\n",
    "\n",
    "results = pd.concat([results, y_pred_series], axis = 1)\n",
    "results.columns = ['index of x_test', 'text', 'actual', 'predicted']\n",
    "results"
   ]
  },
  {
   "cell_type": "code",
   "execution_count": 81,
   "id": "9b2956fb",
   "metadata": {},
   "outputs": [
    {
     "data": {
      "text/html": [
       "<div>\n",
       "<style scoped>\n",
       "    .dataframe tbody tr th:only-of-type {\n",
       "        vertical-align: middle;\n",
       "    }\n",
       "\n",
       "    .dataframe tbody tr th {\n",
       "        vertical-align: top;\n",
       "    }\n",
       "\n",
       "    .dataframe thead th {\n",
       "        text-align: right;\n",
       "    }\n",
       "</style>\n",
       "<table border=\"1\" class=\"dataframe\">\n",
       "  <thead>\n",
       "    <tr style=\"text-align: right;\">\n",
       "      <th></th>\n",
       "      <th>index of x_test</th>\n",
       "      <th>text</th>\n",
       "      <th>actual</th>\n",
       "      <th>predicted</th>\n",
       "    </tr>\n",
       "  </thead>\n",
       "  <tbody>\n",
       "    <tr>\n",
       "      <th>58</th>\n",
       "      <td>111</td>\n",
       "      <td>BBC 'should allow more scrutiny'\\n\\nMPs have u...</td>\n",
       "      <td>entertainment</td>\n",
       "      <td>tech</td>\n",
       "    </tr>\n",
       "    <tr>\n",
       "      <th>115</th>\n",
       "      <td>1379</td>\n",
       "      <td>Ferdinand casts doubt over Glazer\\n\\nRio Ferdi...</td>\n",
       "      <td>sport</td>\n",
       "      <td>business</td>\n",
       "    </tr>\n",
       "    <tr>\n",
       "      <th>116</th>\n",
       "      <td>679</td>\n",
       "      <td>Card fraudsters 'targeting web'\\n\\nNew safegua...</td>\n",
       "      <td>business</td>\n",
       "      <td>tech</td>\n",
       "    </tr>\n",
       "    <tr>\n",
       "      <th>141</th>\n",
       "      <td>290</td>\n",
       "      <td>Media seek Jackson 'juror' notes\\n\\nReporters ...</td>\n",
       "      <td>entertainment</td>\n",
       "      <td>politics</td>\n",
       "    </tr>\n",
       "    <tr>\n",
       "      <th>223</th>\n",
       "      <td>817</td>\n",
       "      <td>Call to overhaul UK state pension\\n\\nThe UK pe...</td>\n",
       "      <td>business</td>\n",
       "      <td>politics</td>\n",
       "    </tr>\n",
       "    <tr>\n",
       "      <th>264</th>\n",
       "      <td>1488</td>\n",
       "      <td>EU fraud clampdown urged\\n\\nEU member states a...</td>\n",
       "      <td>politics</td>\n",
       "      <td>business</td>\n",
       "    </tr>\n",
       "    <tr>\n",
       "      <th>349</th>\n",
       "      <td>1830</td>\n",
       "      <td>Games maker fights for survival\\n\\nOne of Brit...</td>\n",
       "      <td>tech</td>\n",
       "      <td>business</td>\n",
       "    </tr>\n",
       "    <tr>\n",
       "      <th>382</th>\n",
       "      <td>816</td>\n",
       "      <td>G7 backs Africa debt relief plan\\n\\nG7 finance...</td>\n",
       "      <td>business</td>\n",
       "      <td>politics</td>\n",
       "    </tr>\n",
       "    <tr>\n",
       "      <th>403</th>\n",
       "      <td>888</td>\n",
       "      <td>ID theft surge hits US consumers\\n\\nAlmost a q...</td>\n",
       "      <td>business</td>\n",
       "      <td>tech</td>\n",
       "    </tr>\n",
       "    <tr>\n",
       "      <th>411</th>\n",
       "      <td>808</td>\n",
       "      <td>UK young top Euro earnings league\\n\\nBritish c...</td>\n",
       "      <td>business</td>\n",
       "      <td>tech</td>\n",
       "    </tr>\n",
       "    <tr>\n",
       "      <th>512</th>\n",
       "      <td>2087</td>\n",
       "      <td>Parents face video game lessons\\n\\nWays of ens...</td>\n",
       "      <td>tech</td>\n",
       "      <td>politics</td>\n",
       "    </tr>\n",
       "    <tr>\n",
       "      <th>513</th>\n",
       "      <td>270</td>\n",
       "      <td>UK's National Gallery in the pink\\n\\nThe Natio...</td>\n",
       "      <td>entertainment</td>\n",
       "      <td>business</td>\n",
       "    </tr>\n",
       "    <tr>\n",
       "      <th>542</th>\n",
       "      <td>2188</td>\n",
       "      <td>BBC leads interactive Bafta wins\\n\\nThe BBC an...</td>\n",
       "      <td>tech</td>\n",
       "      <td>entertainment</td>\n",
       "    </tr>\n",
       "    <tr>\n",
       "      <th>546</th>\n",
       "      <td>611</td>\n",
       "      <td>Electronics firms eye plasma deal\\n\\nConsumer ...</td>\n",
       "      <td>business</td>\n",
       "      <td>tech</td>\n",
       "    </tr>\n",
       "  </tbody>\n",
       "</table>\n",
       "</div>"
      ],
      "text/plain": [
       "     index of x_test                                               text  \\\n",
       "58               111  BBC 'should allow more scrutiny'\\n\\nMPs have u...   \n",
       "115             1379  Ferdinand casts doubt over Glazer\\n\\nRio Ferdi...   \n",
       "116              679  Card fraudsters 'targeting web'\\n\\nNew safegua...   \n",
       "141              290  Media seek Jackson 'juror' notes\\n\\nReporters ...   \n",
       "223              817  Call to overhaul UK state pension\\n\\nThe UK pe...   \n",
       "264             1488  EU fraud clampdown urged\\n\\nEU member states a...   \n",
       "349             1830  Games maker fights for survival\\n\\nOne of Brit...   \n",
       "382              816  G7 backs Africa debt relief plan\\n\\nG7 finance...   \n",
       "403              888  ID theft surge hits US consumers\\n\\nAlmost a q...   \n",
       "411              808  UK young top Euro earnings league\\n\\nBritish c...   \n",
       "512             2087  Parents face video game lessons\\n\\nWays of ens...   \n",
       "513              270  UK's National Gallery in the pink\\n\\nThe Natio...   \n",
       "542             2188  BBC leads interactive Bafta wins\\n\\nThe BBC an...   \n",
       "546              611  Electronics firms eye plasma deal\\n\\nConsumer ...   \n",
       "\n",
       "            actual      predicted  \n",
       "58   entertainment           tech  \n",
       "115          sport       business  \n",
       "116       business           tech  \n",
       "141  entertainment       politics  \n",
       "223       business       politics  \n",
       "264       politics       business  \n",
       "349           tech       business  \n",
       "382       business       politics  \n",
       "403       business           tech  \n",
       "411       business           tech  \n",
       "512           tech       politics  \n",
       "513  entertainment       business  \n",
       "542           tech  entertainment  \n",
       "546       business           tech  "
      ]
     },
     "execution_count": 81,
     "metadata": {},
     "output_type": "execute_result"
    }
   ],
   "source": [
    "\"\"\"\n",
    "examining those that misclassify\n",
    "\"\"\"\n",
    "\n",
    "results[results['actual'] != results['predicted']]"
   ]
  },
  {
   "cell_type": "code",
   "execution_count": 83,
   "id": "d6ca00a3",
   "metadata": {},
   "outputs": [],
   "source": [
    "wrong_case_index = 111  # Change this index\n",
    "wrong_text = X_test_text[wrong_case_index]\n",
    "wrong_vector = X_test[wrong_case_index]  # Sparse vector for that text\n",
    "\n",
    "# # Get true and predicted labels\n",
    "true_label = y_test[wrong_case_index]\n",
    "predicted_label = y_pred[wrong_case_index]\n",
    "\n",
    "# # Extract the words in the text\n",
    "# wrong_words = np.array(feature_names)[wrong_vector.nonzero()[1]]\n",
    "\n",
    "# # Get log probabilities of those words for both true and predicted classes\n",
    "# true_class_probs = word_importance_df[true_label].loc[wrong_words]\n",
    "# predicted_class_probs = word_importance_df[predicted_label].loc[wrong_words]\n",
    "\n",
    "# # Compare word influence in a DataFrame\n",
    "# word_contribution_df = pd.DataFrame({\n",
    "#     \"word\": wrong_words,\n",
    "#     f\"log_prob_{true_label}\": true_class_probs.values,\n",
    "#     f\"log_prob_{predicted_label}\": predicted_class_probs.values\n",
    "# })\n",
    "\n",
    "# # Display results\n",
    "# tools.display_dataframe_to_user(name=\"Word Contribution in Misclassified Case\", dataframe=word_contribution_df)"
   ]
  },
  {
   "cell_type": "markdown",
   "id": "d8085d95-e657-4647-b13d-ccfe99f80236",
   "metadata": {},
   "source": [
    "#### After removal of english stopwords."
   ]
  },
  {
   "cell_type": "code",
   "execution_count": null,
   "id": "e7606c65-810a-416b-a5a1-38fd92021ac1",
   "metadata": {},
   "outputs": [],
   "source": []
  }
 ],
 "metadata": {
  "kernelspec": {
   "display_name": "venv",
   "language": "python",
   "name": "python3"
  },
  "language_info": {
   "codemirror_mode": {
    "name": "ipython",
    "version": 3
   },
   "file_extension": ".py",
   "mimetype": "text/x-python",
   "name": "python",
   "nbconvert_exporter": "python",
   "pygments_lexer": "ipython3",
   "version": "3.11.6"
  }
 },
 "nbformat": 4,
 "nbformat_minor": 5
}
