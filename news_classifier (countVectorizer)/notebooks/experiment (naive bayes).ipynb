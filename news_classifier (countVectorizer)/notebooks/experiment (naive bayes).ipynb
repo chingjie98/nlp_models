{
 "cells": [
  {
   "cell_type": "markdown",
   "id": "59bb5fed-efd0-473f-b5ee-f9f0e2b3f96c",
   "metadata": {},
   "source": [
    "### import relevant packages"
   ]
  },
  {
   "cell_type": "code",
   "execution_count": 3,
   "id": "c5f3172b-4718-4a9e-b95e-b208e4d9876b",
   "metadata": {},
   "outputs": [],
   "source": [
    "import numpy as np\n",
    "import pandas as pd\n",
    "from sklearn.feature_extraction.text import CountVectorizer\n",
    "from sklearn.naive_bayes import MultinomialNB\n",
    "from sklearn.model_selection import train_test_split\n",
    "\n",
    "import nltk\n",
    "from nltk import word_tokenize\n",
    "from nltk.stem import WordNetLemmatizer, PorterStemmer\n",
    "from nltk.corpus import wordnet"
   ]
  },
  {
   "cell_type": "code",
   "execution_count": null,
   "id": "3d480fa4-e2cf-4bad-9d92-d2640c08ed31",
   "metadata": {},
   "outputs": [],
   "source": []
  }
 ],
 "metadata": {
  "kernelspec": {
   "display_name": "Python 3 (ipykernel)",
   "language": "python",
   "name": "python3"
  },
  "language_info": {
   "codemirror_mode": {
    "name": "ipython",
    "version": 3
   },
   "file_extension": ".py",
   "mimetype": "text/x-python",
   "name": "python",
   "nbconvert_exporter": "python",
   "pygments_lexer": "ipython3",
   "version": "3.13.1"
  }
 },
 "nbformat": 4,
 "nbformat_minor": 5
}
